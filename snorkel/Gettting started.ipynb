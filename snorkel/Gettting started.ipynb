{
 "cells": [
  {
   "cell_type": "code",
   "execution_count": 22,
   "metadata": {},
   "outputs": [
    {
     "data": {
      "text/plain": [
       "['data/Youtube02-KatyPerry.csv',\n",
       " 'data/Youtube04-Eminem.csv',\n",
       " 'data/Youtube01-Psy.csv',\n",
       " 'data/Youtube05-Shakira.csv',\n",
       " 'data/Youtube03-LMFAO.csv']"
      ]
     },
     "execution_count": 22,
     "metadata": {},
     "output_type": "execute_result"
    }
   ],
   "source": [
    "from pathlib import Path\n",
    "\n",
    "files = [str(x) for x in Path('data').glob('*.csv')]\n",
    "files"
   ]
  },
  {
   "cell_type": "code",
   "execution_count": 23,
   "metadata": {},
   "outputs": [],
   "source": [
    "import pandas as pd\n",
    "\n",
    "dfs = []\n",
    "for csv in files:\n",
    "    df = pd.read_csv(csv)\n",
    "    df['filename'] = csv\n",
    "    dfs.append(df)\n",
    "\n",
    "df = pd.concat(dfs)"
   ]
  },
  {
   "cell_type": "code",
   "execution_count": 24,
   "metadata": {},
   "outputs": [
    {
     "data": {
      "text/html": [
       "<div>\n",
       "<style scoped>\n",
       "    .dataframe tbody tr th:only-of-type {\n",
       "        vertical-align: middle;\n",
       "    }\n",
       "\n",
       "    .dataframe tbody tr th {\n",
       "        vertical-align: top;\n",
       "    }\n",
       "\n",
       "    .dataframe thead th {\n",
       "        text-align: right;\n",
       "    }\n",
       "</style>\n",
       "<table border=\"1\" class=\"dataframe\">\n",
       "  <thead>\n",
       "    <tr style=\"text-align: right;\">\n",
       "      <th></th>\n",
       "      <th>COMMENT_ID</th>\n",
       "      <th>AUTHOR</th>\n",
       "      <th>DATE</th>\n",
       "      <th>text</th>\n",
       "      <th>label</th>\n",
       "      <th>filename</th>\n",
       "    </tr>\n",
       "  </thead>\n",
       "  <tbody>\n",
       "    <tr>\n",
       "      <th>0</th>\n",
       "      <td>z12pgdhovmrktzm3i23es5d5junftft3f</td>\n",
       "      <td>lekanaVEVO1</td>\n",
       "      <td>2014-07-22T15:27:50</td>\n",
       "      <td>i love this so much. AND also I Generate Free ...</td>\n",
       "      <td>1</td>\n",
       "      <td>data/Youtube02-KatyPerry.csv</td>\n",
       "    </tr>\n",
       "    <tr>\n",
       "      <th>1</th>\n",
       "      <td>z13yx345uxepetggz04ci5rjcxeohzlrtf4</td>\n",
       "      <td>Pyunghee</td>\n",
       "      <td>2014-07-27T01:57:16</td>\n",
       "      <td>http://www.billboard.com/articles/columns/pop-...</td>\n",
       "      <td>1</td>\n",
       "      <td>data/Youtube02-KatyPerry.csv</td>\n",
       "    </tr>\n",
       "    <tr>\n",
       "      <th>2</th>\n",
       "      <td>z12lsjvi3wa5x1vwh04cibeaqnzrevxajw00k</td>\n",
       "      <td>Erica Ross</td>\n",
       "      <td>2014-07-27T02:51:43</td>\n",
       "      <td>Hey guys! Please join me in my fight to help a...</td>\n",
       "      <td>1</td>\n",
       "      <td>data/Youtube02-KatyPerry.csv</td>\n",
       "    </tr>\n",
       "    <tr>\n",
       "      <th>3</th>\n",
       "      <td>z13jcjuovxbwfr0ge04cev2ipsjdfdurwck</td>\n",
       "      <td>Aviel Haimov</td>\n",
       "      <td>2014-08-01T12:27:48</td>\n",
       "      <td>http://psnboss.com/?ref=2tGgp3pV6L this is the...</td>\n",
       "      <td>1</td>\n",
       "      <td>data/Youtube02-KatyPerry.csv</td>\n",
       "    </tr>\n",
       "    <tr>\n",
       "      <th>4</th>\n",
       "      <td>z13qybua2yfydzxzj04cgfpqdt2syfx53ms0k</td>\n",
       "      <td>John Bello</td>\n",
       "      <td>2014-08-01T21:04:03</td>\n",
       "      <td>Hey everyone. Watch this trailer!!!!!!!!  http...</td>\n",
       "      <td>1</td>\n",
       "      <td>data/Youtube02-KatyPerry.csv</td>\n",
       "    </tr>\n",
       "  </tbody>\n",
       "</table>\n",
       "</div>"
      ],
      "text/plain": [
       "                              COMMENT_ID        AUTHOR                 DATE   \n",
       "0      z12pgdhovmrktzm3i23es5d5junftft3f   lekanaVEVO1  2014-07-22T15:27:50  \\\n",
       "1    z13yx345uxepetggz04ci5rjcxeohzlrtf4      Pyunghee  2014-07-27T01:57:16   \n",
       "2  z12lsjvi3wa5x1vwh04cibeaqnzrevxajw00k    Erica Ross  2014-07-27T02:51:43   \n",
       "3    z13jcjuovxbwfr0ge04cev2ipsjdfdurwck  Aviel Haimov  2014-08-01T12:27:48   \n",
       "4  z13qybua2yfydzxzj04cgfpqdt2syfx53ms0k    John Bello  2014-08-01T21:04:03   \n",
       "\n",
       "                                                text  label   \n",
       "0  i love this so much. AND also I Generate Free ...      1  \\\n",
       "1  http://www.billboard.com/articles/columns/pop-...      1   \n",
       "2  Hey guys! Please join me in my fight to help a...      1   \n",
       "3  http://psnboss.com/?ref=2tGgp3pV6L this is the...      1   \n",
       "4  Hey everyone. Watch this trailer!!!!!!!!  http...      1   \n",
       "\n",
       "                       filename  \n",
       "0  data/Youtube02-KatyPerry.csv  \n",
       "1  data/Youtube02-KatyPerry.csv  \n",
       "2  data/Youtube02-KatyPerry.csv  \n",
       "3  data/Youtube02-KatyPerry.csv  \n",
       "4  data/Youtube02-KatyPerry.csv  "
      ]
     },
     "execution_count": 24,
     "metadata": {},
     "output_type": "execute_result"
    }
   ],
   "source": [
    "import pandas as pd\n",
    "\n",
    "df.rename(columns={'CONTENT': 'text', 'CLASS': 'label'}, inplace=True)\n",
    "\n",
    "df.head()\n"
   ]
  },
  {
   "cell_type": "code",
   "execution_count": 25,
   "metadata": {},
   "outputs": [
    {
     "data": {
      "text/plain": [
       "label\n",
       "1    1005\n",
       "0     951\n",
       "Name: count, dtype: int64"
      ]
     },
     "execution_count": 25,
     "metadata": {},
     "output_type": "execute_result"
    }
   ],
   "source": [
    "df[\"label\"].value_counts()"
   ]
  },
  {
   "cell_type": "code",
   "execution_count": 26,
   "metadata": {},
   "outputs": [
    {
     "name": "stdout",
     "output_type": "stream",
     "text": [
      "Train size:  1564\n",
      "Test size:  392\n"
     ]
    }
   ],
   "source": [
    "from sklearn.model_selection import train_test_split\n",
    "\n",
    "# Split the data into train and test\n",
    "df_train, df_test = train_test_split(df, test_size=0.2, random_state=42)\n",
    "\n",
    "print('Train size: ', len(df_train))\n",
    "print('Test size: ', len(df_test))"
   ]
  },
  {
   "cell_type": "code",
   "execution_count": 27,
   "metadata": {},
   "outputs": [],
   "source": [
    "ABSTAIN = -1\n",
    "HAM = 0\n",
    "SPAM = 1"
   ]
  },
  {
   "cell_type": "code",
   "execution_count": 28,
   "metadata": {},
   "outputs": [],
   "source": [
    "from snorkel.labeling import labeling_function\n",
    "import re\n",
    "\n",
    "@labeling_function()\n",
    "def lf_keyword_my(x):\n",
    "    \"\"\"Mark any comment mentioning 'my' as spam (My chanel, My video, My song, etc.)\"\"\"\n",
    "    return SPAM if \"my\" in x.text.lower() else ABSTAIN\n",
    "\n",
    "@labeling_function()\n",
    "def lf_regex_check_out(x):\n",
    "    \"\"\"Spam comments say 'check out my video', 'check it out', etc.\"\"\"\n",
    "    return SPAM if re.search(r\"check.*out\", x.text, flags=re.I) else ABSTAIN\n",
    "\n",
    "@labeling_function()\n",
    "def lf_short_comment(x):\n",
    "    \"\"\"Non-spam comments are often short, such as 'cool video!'.\"\"\"\n",
    "    return HAM if len(x.text.split()) < 5 else ABSTAIN\n",
    "\n",
    "\n",
    "@labeling_function()\n",
    "def lf_contains_link(x):\n",
    "    \"\"\"Spam comments often contain a link.\"\"\"\n",
    "    return SPAM if \"http\" in x.text.lower() else ABSTAIN\n"
   ]
  },
  {
   "cell_type": "code",
   "execution_count": 29,
   "metadata": {},
   "outputs": [
    {
     "name": "stderr",
     "output_type": "stream",
     "text": [
      "100%|██████████| 1564/1564 [00:00<00:00, 5320.89it/s]\n"
     ]
    }
   ],
   "source": [
    "from snorkel.labeling.model import LabelModel\n",
    "from snorkel.labeling import PandasLFApplier\n",
    "\n",
    "# Define the set of labeling functions (LFs)\n",
    "lfs = [lf_keyword_my, lf_regex_check_out, lf_short_comment, lf_contains_link]\n",
    "\n",
    "# Apply the LFs to the unlabeled training data\n",
    "applier = PandasLFApplier(lfs)\n",
    "label_train = applier.apply(df_train)\n"
   ]
  },
  {
   "cell_type": "code",
   "execution_count": 30,
   "metadata": {},
   "outputs": [
    {
     "name": "stderr",
     "output_type": "stream",
     "text": [
      "INFO:root:Computing O...\n",
      "INFO:root:Estimating \\mu...\n",
      "  0%|          | 0/500 [00:00<?, ?epoch/s]INFO:root:[0 epochs]: TRAIN:[loss=0.053]\n",
      "INFO:root:[50 epochs]: TRAIN:[loss=0.003]\n",
      " 13%|█▎        | 65/500 [00:00<00:00, 640.06epoch/s]INFO:root:[100 epochs]: TRAIN:[loss=0.000]\n",
      " 27%|██▋       | 134/500 [00:00<00:00, 668.09epoch/s]INFO:root:[150 epochs]: TRAIN:[loss=0.000]\n",
      "INFO:root:[200 epochs]: TRAIN:[loss=0.000]\n",
      " 44%|████▍     | 220/500 [00:00<00:00, 754.82epoch/s]INFO:root:[250 epochs]: TRAIN:[loss=0.000]\n",
      " 59%|█████▉    | 296/500 [00:00<00:00, 756.38epoch/s]INFO:root:[300 epochs]: TRAIN:[loss=0.000]\n",
      "INFO:root:[350 epochs]: TRAIN:[loss=0.000]\n",
      " 74%|███████▍  | 372/500 [00:00<00:00, 704.76epoch/s]INFO:root:[400 epochs]: TRAIN:[loss=0.000]\n",
      "INFO:root:[450 epochs]: TRAIN:[loss=0.000]\n",
      "100%|██████████| 500/500 [00:00<00:00, 751.08epoch/s]\n",
      "INFO:root:Finished Training\n"
     ]
    }
   ],
   "source": [
    "\n",
    "# Train the label model and compute the training labels\n",
    "label_model = LabelModel(cardinality=2, verbose=True)\n",
    "label_model.fit(label_train, n_epochs=500, log_freq=50, seed=123)\n",
    "df_train[\"snorkel_label\"] = label_model.predict(L=label_train, tie_break_policy=\"abstain\")"
   ]
  },
  {
   "cell_type": "code",
   "execution_count": 31,
   "metadata": {},
   "outputs": [
    {
     "name": "stdout",
     "output_type": "stream",
     "text": [
      "Coverage of keyword_my: 19.5%\n",
      "Coverage of regex_check_out: 22.6%\n",
      "Coverage of short_comment: 24.7%\n"
     ]
    }
   ],
   "source": [
    "coverage_my, coverage_check_out, coverage_short, *_ = (label_train != ABSTAIN).mean(axis=0)\n",
    "\n",
    "print(f\"Coverage of keyword_my: {coverage_my * 100:.1f}%\")\n",
    "print(f\"Coverage of regex_check_out: {coverage_check_out * 100:.1f}%\")\n",
    "print(f\"Coverage of short_comment: {coverage_short * 100:.1f}%\")\n"
   ]
  },
  {
   "cell_type": "code",
   "execution_count": 35,
   "metadata": {},
   "outputs": [
    {
     "data": {
      "text/html": [
       "<div>\n",
       "<style scoped>\n",
       "    .dataframe tbody tr th:only-of-type {\n",
       "        vertical-align: middle;\n",
       "    }\n",
       "\n",
       "    .dataframe tbody tr th {\n",
       "        vertical-align: top;\n",
       "    }\n",
       "\n",
       "    .dataframe thead th {\n",
       "        text-align: right;\n",
       "    }\n",
       "</style>\n",
       "<table border=\"1\" class=\"dataframe\">\n",
       "  <thead>\n",
       "    <tr style=\"text-align: right;\">\n",
       "      <th></th>\n",
       "      <th>j</th>\n",
       "      <th>Polarity</th>\n",
       "      <th>Coverage</th>\n",
       "      <th>Overlaps</th>\n",
       "      <th>Conflicts</th>\n",
       "    </tr>\n",
       "  </thead>\n",
       "  <tbody>\n",
       "    <tr>\n",
       "      <th>lf_keyword_my</th>\n",
       "      <td>0</td>\n",
       "      <td>[1]</td>\n",
       "      <td>0.195013</td>\n",
       "      <td>0.108056</td>\n",
       "      <td>0.014706</td>\n",
       "    </tr>\n",
       "    <tr>\n",
       "      <th>lf_regex_check_out</th>\n",
       "      <td>1</td>\n",
       "      <td>[1]</td>\n",
       "      <td>0.225703</td>\n",
       "      <td>0.088235</td>\n",
       "      <td>0.001918</td>\n",
       "    </tr>\n",
       "    <tr>\n",
       "      <th>lf_short_comment</th>\n",
       "      <td>2</td>\n",
       "      <td>[0]</td>\n",
       "      <td>0.246803</td>\n",
       "      <td>0.052430</td>\n",
       "      <td>0.052430</td>\n",
       "    </tr>\n",
       "    <tr>\n",
       "      <th>lf_contains_link</th>\n",
       "      <td>3</td>\n",
       "      <td>[1]</td>\n",
       "      <td>0.097826</td>\n",
       "      <td>0.058184</td>\n",
       "      <td>0.038363</td>\n",
       "    </tr>\n",
       "  </tbody>\n",
       "</table>\n",
       "</div>"
      ],
      "text/plain": [
       "                    j Polarity  Coverage  Overlaps  Conflicts\n",
       "lf_keyword_my       0      [1]  0.195013  0.108056   0.014706\n",
       "lf_regex_check_out  1      [1]  0.225703  0.088235   0.001918\n",
       "lf_short_comment    2      [0]  0.246803  0.052430   0.052430\n",
       "lf_contains_link    3      [1]  0.097826  0.058184   0.038363"
      ]
     },
     "execution_count": 35,
     "metadata": {},
     "output_type": "execute_result"
    }
   ],
   "source": [
    "from snorkel.labeling import LFAnalysis\n",
    "\n",
    "LFAnalysis(L=label_train, lfs=lfs).lf_summary()\n"
   ]
  }
 ],
 "metadata": {
  "kernelspec": {
   "display_name": ".venv",
   "language": "python",
   "name": "python3"
  },
  "language_info": {
   "codemirror_mode": {
    "name": "ipython",
    "version": 3
   },
   "file_extension": ".py",
   "mimetype": "text/x-python",
   "name": "python",
   "nbconvert_exporter": "python",
   "pygments_lexer": "ipython3",
   "version": "3.11.3"
  },
  "orig_nbformat": 4
 },
 "nbformat": 4,
 "nbformat_minor": 2
}
