{
 "cells": [
  {
   "attachments": {},
   "cell_type": "markdown",
   "metadata": {},
   "source": [
    "_Simple Hello world Python Program_\n"
   ]
  },
  {
   "cell_type": "code",
   "execution_count": 6,
   "metadata": {},
   "outputs": [
    {
     "data": {
      "text/plain": [
       "14"
      ]
     },
     "execution_count": 6,
     "metadata": {},
     "output_type": "execute_result"
    }
   ],
   "source": [
    "train_set = [\n",
    "    [1, 0, 0, 0, 0, 1, 0, 0, 0],\n",
    "    [1, 0, 0, 0, 0, 1, 0, 1, 0],\n",
    "    [0, 1, 0, 0, 0, 1, 0, 0, 1],\n",
    "    [0, 0, 1, 0, 1, 0, 0, 0, 1],\n",
    "    [0, 0, 1, 1, 0, 0, 1, 0, 1],\n",
    "    [0, 0, 1, 1, 0, 0, 1, 1, 0],\n",
    "    [0, 1, 0, 1, 0, 0, 1, 1, 1],\n",
    "    [1, 0, 0, 0, 1, 0, 0, 0, 0],\n",
    "    [1, 0, 0, 1, 0, 0, 1, 0, 1],\n",
    "    [0, 0, 1, 0, 1, 0, 1, 0, 1],\n",
    "    [1, 0, 0, 0, 1, 0, 1, 1, 1],\n",
    "    [0, 1, 0, 0, 1, 0, 0, 1, 1],\n",
    "    [0, 1, 0, 0, 0, 1, 1, 0, 1],\n",
    "    [0, 0, 1, 0, 1, 0, 0, 1, 0]\n",
    "]"
   ]
  },
  {
   "cell_type": "code",
   "execution_count": 11,
   "metadata": {},
   "outputs": [
    {
     "name": "stdout",
     "output_type": "stream",
     "text": [
      "0.9853104240995146 0.014689575900485408\n",
      "1.0\n"
     ]
    }
   ],
   "source": [
    "import numpy as np\n",
    "\n",
    "import math\n",
    "\n",
    "def p(w, y, x):\n",
    "    return 1 / (1 + math.exp(-y * np.dot(w, x)))\n",
    "\n",
    "def train(train_set, alpha=0.01, max_iter=1000):\n",
    "    w = np.zeros(8)\n",
    "    for _ in range(max_iter):\n",
    "        for x in train_set:\n",
    "            y = x[-1]\n",
    "            x = np.array(x[:-1])\n",
    "            w += alpha * (1 - p(w, y, x)) * y * x\n",
    "    return w\n",
    "\n",
    "\n",
    "w = train(train_set=train_set)\n",
    "\n",
    "x = [1, 0, 0, 0, 0, 1, 1, 0]\n",
    "\n",
    "y = p(w, 1, x)\n",
    "not_y = p(w, -1, x)\n",
    "\n",
    "print(y, not_y)\n",
    "\n",
    "print(y + not_y)"
   ]
  },
  {
   "cell_type": "code",
   "execution_count": 1,
   "metadata": {},
   "outputs": [
    {
     "name": "stdout",
     "output_type": "stream",
     "text": [
      "[[ 56.    0.    4.4  68. ]\n",
      " [  1.2 104.   52.    8. ]\n",
      " [  1.8 135.   99.    0.9]]\n"
     ]
    }
   ],
   "source": [
    "import numpy as np\n",
    "\n",
    "A = np.array([[56.0, 0.0, 4.4, 68.0],\n",
    "              [1.2, 104.0, 52.0, 8.0],\n",
    "              [1.8, 135.0, 99.0, 0.9]])\n",
    "\n",
    "print(A)"
   ]
  },
  {
   "cell_type": "code",
   "execution_count": 2,
   "metadata": {},
   "outputs": [
    {
     "name": "stdout",
     "output_type": "stream",
     "text": [
      "[128.4 165.2 236.7]\n"
     ]
    }
   ],
   "source": [
    "row = A.sum(axis=1)\n",
    "print(row)"
   ]
  },
  {
   "cell_type": "code",
   "execution_count": 4,
   "metadata": {},
   "outputs": [
    {
     "name": "stdout",
     "output_type": "stream",
     "text": [
      "[ 59.  239.  155.4  76.9]\n"
     ]
    }
   ],
   "source": [
    "cal = A.sum(axis=0)\n",
    "\n",
    "print(cal)"
   ]
  },
  {
   "cell_type": "code",
   "execution_count": 5,
   "metadata": {},
   "outputs": [
    {
     "name": "stdout",
     "output_type": "stream",
     "text": [
      "[[94.91525424  0.          2.83140283 88.42652796]\n",
      " [ 2.03389831 43.51464435 33.46203346 10.40312094]\n",
      " [ 3.05084746 56.48535565 63.70656371  1.17035111]]\n"
     ]
    }
   ],
   "source": [
    "percentage = 100 * A / cal.reshape(1, 4)\n",
    "\n",
    "print(percentage)"
   ]
  }
 ],
 "metadata": {
  "kernelspec": {
   "display_name": "Python 3",
   "language": "python",
   "name": "python3"
  },
  "language_info": {
   "codemirror_mode": {
    "name": "ipython",
    "version": 3
   },
   "file_extension": ".py",
   "mimetype": "text/x-python",
   "name": "python",
   "nbconvert_exporter": "python",
   "pygments_lexer": "ipython3",
   "version": "3.10.10"
  },
  "orig_nbformat": 4
 },
 "nbformat": 4,
 "nbformat_minor": 2
}
