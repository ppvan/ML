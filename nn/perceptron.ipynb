{
 "cells": [
  {
   "attachments": {},
   "cell_type": "markdown",
   "metadata": {},
   "source": [
    "# Twice Model\n",
    "> Just one perceptron to double numbers"
   ]
  },
  {
   "cell_type": "code",
   "execution_count": 54,
   "metadata": {},
   "outputs": [
    {
     "data": {
      "text/plain": [
       "array([[ 0,  0],\n",
       "       [ 1,  2],\n",
       "       [ 2,  4],\n",
       "       [ 3,  6],\n",
       "       [ 4,  8],\n",
       "       [ 5, 10],\n",
       "       [ 6, 12],\n",
       "       [ 7, 14],\n",
       "       [ 8, 16],\n",
       "       [ 9, 18]])"
      ]
     },
     "execution_count": 54,
     "metadata": {},
     "output_type": "execute_result"
    }
   ],
   "source": [
    "import numpy as np\n",
    "import matplotlib.pyplot as plt\n",
    "\n",
    "train_set = np.array([[x, 2*x] for x in range(10)])\n",
    "train_set"
   ]
  },
  {
   "cell_type": "code",
   "execution_count": 55,
   "metadata": {},
   "outputs": [
    {
     "data": {
      "text/plain": [
       "array([3.74540119])"
      ]
     },
     "execution_count": 55,
     "metadata": {},
     "output_type": "execute_result"
    }
   ],
   "source": [
    "np.random.seed(42)\n",
    "\n",
    "w = np.random.rand(1) * 10\n",
    "w"
   ]
  },
  {
   "cell_type": "code",
   "execution_count": 56,
   "metadata": {},
   "outputs": [
    {
     "data": {
      "text/plain": [
       "array([86.8231213])"
      ]
     },
     "execution_count": 56,
     "metadata": {},
     "output_type": "execute_result"
    }
   ],
   "source": [
    "def forward(x):\n",
    "    return x * w\n",
    "\n",
    "def lost(x, y, w):\n",
    "    return (y - w * x)**2\n",
    "\n",
    "def cost(w, train_set):\n",
    "    cost = 0\n",
    "    for x, y in train_set:\n",
    "        cost += lost(x, y, w)\n",
    "    return cost / len(train_set)\n",
    "\n",
    "cost(w, train_set)"
   ]
  },
  {
   "cell_type": "code",
   "execution_count": 57,
   "metadata": {},
   "outputs": [
    {
     "data": {
      "text/plain": [
       "array([99.48806223])"
      ]
     },
     "execution_count": 57,
     "metadata": {},
     "output_type": "execute_result"
    }
   ],
   "source": [
    "def finite_difference(w, train_set, h=1e-10):\n",
    "    return (cost(w + h, train_set) - cost(w, train_set)) / h\n",
    "\n",
    "eps = 1e-10\n",
    "finite_difference(w, train_set, h=eps)"
   ]
  },
  {
   "cell_type": "code",
   "execution_count": 58,
   "metadata": {},
   "outputs": [
    {
     "name": "stdout",
     "output_type": "stream",
     "text": [
      "w = [95.07143064], cost = [246875.29924449]\n",
      "w = [2.00012716], cost = [4.60830604e-07]\n"
     ]
    }
   ],
   "source": [
    "rate = 0.01\n",
    "# np.random.seed(42)\n",
    "w = np.random.rand(1) * 100\n",
    "print(f\"w = {w}, cost = {cost(w, train_set)}\")\n",
    "\n",
    "ws = []\n",
    "\n",
    "EPOCHS = 16\n",
    "for i in range(EPOCHS):\n",
    "    ws.append(w)\n",
    "    dw = finite_difference(w, train_set, h=eps)\n",
    "    w -= rate * dw\n",
    "\n",
    "print(f\"w = {w}, cost = {cost(w, train_set)}\")"
   ]
  }
 ],
 "metadata": {
  "kernelspec": {
   "display_name": ".venv",
   "language": "python",
   "name": "python3"
  },
  "language_info": {
   "codemirror_mode": {
    "name": "ipython",
    "version": 3
   },
   "file_extension": ".py",
   "mimetype": "text/x-python",
   "name": "python",
   "nbconvert_exporter": "python",
   "pygments_lexer": "ipython3",
   "version": "3.11.3"
  },
  "orig_nbformat": 4
 },
 "nbformat": 4,
 "nbformat_minor": 2
}
