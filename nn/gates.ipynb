{
 "cells": [
  {
   "attachments": {},
   "cell_type": "markdown",
   "metadata": {},
   "source": [
    "# OR models\n",
    "> Perceptron with activation functions = Logistic regression"
   ]
  },
  {
   "cell_type": "code",
   "execution_count": 2,
   "metadata": {},
   "outputs": [
    {
     "data": {
      "text/plain": [
       "array([[0, 0, 0],\n",
       "       [0, 1, 0],\n",
       "       [1, 0, 0],\n",
       "       [1, 1, 1]])"
      ]
     },
     "execution_count": 2,
     "metadata": {},
     "output_type": "execute_result"
    }
   ],
   "source": [
    "import numpy as np\n",
    "\n",
    "\n",
    "or_gate = np.array([\n",
    "    [0, 0, 0], [0, 1, 1], [1, 0, 1], [1, 1, 1]\n",
    "])\n",
    "\n",
    "and_gate = np.array(\n",
    "    [[0, 0, 0], [0, 1, 0], [1, 0, 0], [1, 1, 1]]\n",
    ")\n",
    "\n",
    "nand_gate =  np.array(\n",
    "    [[0, 0, 1], [0, 1, 1], [1, 0, 1], [1, 1, 0]]\n",
    ")\n",
    "\n",
    "train_set = and_gate\n",
    "\n",
    "train_set"
   ]
  },
  {
   "cell_type": "code",
   "execution_count": 3,
   "metadata": {},
   "outputs": [],
   "source": [
    "import math\n",
    "\n",
    "\n",
    "def sigmod(x):\n",
    "    return 1 / (1 + math.exp(-x))\n",
    "\n",
    "\n",
    "def forward(x, w, b):\n",
    "    return sigmod(np.dot(x, w) + b)\n",
    "\n",
    "\n",
    "def cost(w, b, train_set):\n",
    "    c = 0\n",
    "    for *x, y in train_set:\n",
    "        y_hat = forward(x, w, b)\n",
    "        c += (y - y_hat) ** 2\n",
    "\n",
    "    return c\n",
    "\n",
    "\n",
    "def finite_diff(w, b, train_set, eps=1e-10):\n",
    "\n",
    "    saved = cost(w, b, train_set)\n",
    "    dw = (cost(w + eps, b, train_set) - saved) / eps\n",
    "    db = (cost(w, b + eps, train_set) - saved) / eps\n",
    "\n",
    "    return dw, db\n",
    "\n",
    "\n",
    "def nn_print(w, b, cost):\n",
    "    print(\"[\")\n",
    "    print(f\"\\tw = {w}\")\n",
    "    print(f\"\\rb = {b}\")\n",
    "    print(f\"\\tcost = {cost}\")\n",
    "    print(\"]\")"
   ]
  },
  {
   "cell_type": "code",
   "execution_count": 5,
   "metadata": {},
   "outputs": [
    {
     "name": "stdout",
     "output_type": "stream",
     "text": [
      "[\n",
      "\tw = [[0.37454012]\n",
      " [0.95071431]]\n",
      "b = [[0.73199394]]\n",
      "\tcost = 1.744612508366399\n",
      "]\n",
      "------------------------------\n",
      "[\n",
      "\tw = [[3.45633202]\n",
      " [4.03250621]]\n",
      "b = [[-5.78346165]]\n",
      "\tcost = 0.05343857784123131\n",
      "]\n",
      "------------------------------\n",
      "0 | 0 = 0.0030685965731924378\n",
      "0 | 1 = 0.1479267292814516\n",
      "1 | 0 = 0.08890088187775681\n",
      "1 | 1 = 0.8462356428760177\n"
     ]
    }
   ],
   "source": [
    "np.random.seed(42)\n",
    "w = np.random.rand(2, 1)\n",
    "b = np.random.rand(1, 1)\n",
    "rate = 0.01\n",
    "eps = 1e-1\n",
    "EPOCHS = 10**4\n",
    "\n",
    "nn_print(w, b, cost(w, b, train_set))\n",
    "\n",
    "for i in range(EPOCHS):\n",
    "    dw, db = finite_diff(w, b, train_set, eps)\n",
    "    w -= rate * dw\n",
    "    b -= rate * db\n",
    "    # print(f\"{dw=}, {db=}\")\n",
    "    # nn_print(w, b, cost(w, b, train_set))\n",
    "\n",
    "print(\"---\" * 10)\n",
    "nn_print(w, b, cost(w, b, train_set))\n",
    "\n",
    "print(\"---\" * 10)\n",
    "for *x, y in train_set:\n",
    "    x1, x2 = x\n",
    "    print(f\"{x1} | {x2} = {forward(x, w, b)}\")"
   ]
  }
 ],
 "metadata": {
  "kernelspec": {
   "display_name": ".venv",
   "language": "python",
   "name": "python3"
  },
  "language_info": {
   "codemirror_mode": {
    "name": "ipython",
    "version": 3
   },
   "file_extension": ".py",
   "mimetype": "text/x-python",
   "name": "python",
   "nbconvert_exporter": "python",
   "pygments_lexer": "ipython3",
   "version": "3.11.3"
  },
  "orig_nbformat": 4
 },
 "nbformat": 4,
 "nbformat_minor": 2
}
