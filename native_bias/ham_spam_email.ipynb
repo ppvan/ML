{
 "cells": [
  {
   "cell_type": "code",
   "execution_count": 1,
   "metadata": {},
   "outputs": [
    {
     "data": {
      "text/html": [
       "<div>\n",
       "<style scoped>\n",
       "    .dataframe tbody tr th:only-of-type {\n",
       "        vertical-align: middle;\n",
       "    }\n",
       "\n",
       "    .dataframe tbody tr th {\n",
       "        vertical-align: top;\n",
       "    }\n",
       "\n",
       "    .dataframe thead th {\n",
       "        text-align: right;\n",
       "    }\n",
       "</style>\n",
       "<table border=\"1\" class=\"dataframe\">\n",
       "  <thead>\n",
       "    <tr style=\"text-align: right;\">\n",
       "      <th></th>\n",
       "      <th>label</th>\n",
       "      <th>text</th>\n",
       "    </tr>\n",
       "  </thead>\n",
       "  <tbody>\n",
       "    <tr>\n",
       "      <th>1566</th>\n",
       "      <td>ham</td>\n",
       "      <td>Subject: hpl nom for march 30 , 2001\\r\\n( see ...</td>\n",
       "    </tr>\n",
       "    <tr>\n",
       "      <th>1988</th>\n",
       "      <td>spam</td>\n",
       "      <td>Subject: online pharxmacy 80 % off all meds\\r\\...</td>\n",
       "    </tr>\n",
       "    <tr>\n",
       "      <th>1235</th>\n",
       "      <td>ham</td>\n",
       "      <td>Subject: re : nom / actual volume for april 17...</td>\n",
       "    </tr>\n",
       "    <tr>\n",
       "      <th>2868</th>\n",
       "      <td>ham</td>\n",
       "      <td>Subject: re : meter 8740 dec 99\\r\\nrobert and ...</td>\n",
       "    </tr>\n",
       "    <tr>\n",
       "      <th>4903</th>\n",
       "      <td>ham</td>\n",
       "      <td>Subject: re : coastal oil &amp; gas corporation\\r\\...</td>\n",
       "    </tr>\n",
       "  </tbody>\n",
       "</table>\n",
       "</div>"
      ],
      "text/plain": [
       "     label                                               text\n",
       "1566   ham  Subject: hpl nom for march 30 , 2001\\r\\n( see ...\n",
       "1988  spam  Subject: online pharxmacy 80 % off all meds\\r\\...\n",
       "1235   ham  Subject: re : nom / actual volume for april 17...\n",
       "2868   ham  Subject: re : meter 8740 dec 99\\r\\nrobert and ...\n",
       "4903   ham  Subject: re : coastal oil & gas corporation\\r\\..."
      ]
     },
     "execution_count": 1,
     "metadata": {},
     "output_type": "execute_result"
    }
   ],
   "source": [
    "import pandas as pd\n",
    "\n",
    "df = pd.read_csv(\"./archive/spam_ham_dataset.csv\", usecols=[\"label\", \"text\"])\n",
    "\n",
    "train_set = df.sample(frac=0.8, random_state=42)\n",
    "\n",
    "train_set.head()"
   ]
  },
  {
   "cell_type": "code",
   "execution_count": 2,
   "metadata": {},
   "outputs": [
    {
     "data": {
      "text/html": [
       "<div>\n",
       "<style scoped>\n",
       "    .dataframe tbody tr th:only-of-type {\n",
       "        vertical-align: middle;\n",
       "    }\n",
       "\n",
       "    .dataframe tbody tr th {\n",
       "        vertical-align: top;\n",
       "    }\n",
       "\n",
       "    .dataframe thead th {\n",
       "        text-align: right;\n",
       "    }\n",
       "</style>\n",
       "<table border=\"1\" class=\"dataframe\">\n",
       "  <thead>\n",
       "    <tr style=\"text-align: right;\">\n",
       "      <th></th>\n",
       "      <th>label</th>\n",
       "      <th>text</th>\n",
       "    </tr>\n",
       "  </thead>\n",
       "  <tbody>\n",
       "    <tr>\n",
       "      <th>count</th>\n",
       "      <td>4137</td>\n",
       "      <td>4137</td>\n",
       "    </tr>\n",
       "    <tr>\n",
       "      <th>unique</th>\n",
       "      <td>2</td>\n",
       "      <td>4028</td>\n",
       "    </tr>\n",
       "    <tr>\n",
       "      <th>top</th>\n",
       "      <td>ham</td>\n",
       "      <td>Subject: calpine daily gas nomination\\r\\n&gt;\\r\\n...</td>\n",
       "    </tr>\n",
       "    <tr>\n",
       "      <th>freq</th>\n",
       "      <td>2952</td>\n",
       "      <td>17</td>\n",
       "    </tr>\n",
       "  </tbody>\n",
       "</table>\n",
       "</div>"
      ],
      "text/plain": [
       "       label                                               text\n",
       "count   4137                                               4137\n",
       "unique     2                                               4028\n",
       "top      ham  Subject: calpine daily gas nomination\\r\\n>\\r\\n...\n",
       "freq    2952                                                 17"
      ]
     },
     "execution_count": 2,
     "metadata": {},
     "output_type": "execute_result"
    }
   ],
   "source": [
    "train_set.describe()"
   ]
  },
  {
   "cell_type": "code",
   "execution_count": 3,
   "metadata": {},
   "outputs": [
    {
     "data": {
      "text/html": [
       "<div>\n",
       "<style scoped>\n",
       "    .dataframe tbody tr th:only-of-type {\n",
       "        vertical-align: middle;\n",
       "    }\n",
       "\n",
       "    .dataframe tbody tr th {\n",
       "        vertical-align: top;\n",
       "    }\n",
       "\n",
       "    .dataframe thead tr th {\n",
       "        text-align: left;\n",
       "    }\n",
       "\n",
       "    .dataframe thead tr:last-of-type th {\n",
       "        text-align: right;\n",
       "    }\n",
       "</style>\n",
       "<table border=\"1\" class=\"dataframe\">\n",
       "  <thead>\n",
       "    <tr>\n",
       "      <th></th>\n",
       "      <th colspan=\"4\" halign=\"left\">text</th>\n",
       "    </tr>\n",
       "    <tr>\n",
       "      <th></th>\n",
       "      <th>count</th>\n",
       "      <th>unique</th>\n",
       "      <th>top</th>\n",
       "      <th>freq</th>\n",
       "    </tr>\n",
       "    <tr>\n",
       "      <th>label</th>\n",
       "      <th></th>\n",
       "      <th></th>\n",
       "      <th></th>\n",
       "      <th></th>\n",
       "    </tr>\n",
       "  </thead>\n",
       "  <tbody>\n",
       "    <tr>\n",
       "      <th>ham</th>\n",
       "      <td>2952</td>\n",
       "      <td>2867</td>\n",
       "      <td>Subject: calpine daily gas nomination\\r\\n&gt;\\r\\n...</td>\n",
       "      <td>17</td>\n",
       "    </tr>\n",
       "    <tr>\n",
       "      <th>spam</th>\n",
       "      <td>1185</td>\n",
       "      <td>1161</td>\n",
       "      <td>Subject: \\r\\n</td>\n",
       "      <td>11</td>\n",
       "    </tr>\n",
       "  </tbody>\n",
       "</table>\n",
       "</div>"
      ],
      "text/plain": [
       "       text                                                               \n",
       "      count unique                                                top freq\n",
       "label                                                                     \n",
       "ham    2952   2867  Subject: calpine daily gas nomination\\r\\n>\\r\\n...   17\n",
       "spam   1185   1161                                      Subject: \\r\\n   11"
      ]
     },
     "execution_count": 3,
     "metadata": {},
     "output_type": "execute_result"
    }
   ],
   "source": [
    "train_set.groupby(\"label\").describe()"
   ]
  },
  {
   "cell_type": "code",
   "execution_count": 4,
   "metadata": {},
   "outputs": [
    {
     "data": {
      "text/html": [
       "<div>\n",
       "<style scoped>\n",
       "    .dataframe tbody tr th:only-of-type {\n",
       "        vertical-align: middle;\n",
       "    }\n",
       "\n",
       "    .dataframe tbody tr th {\n",
       "        vertical-align: top;\n",
       "    }\n",
       "\n",
       "    .dataframe thead tr th {\n",
       "        text-align: left;\n",
       "    }\n",
       "\n",
       "    .dataframe thead tr:last-of-type th {\n",
       "        text-align: right;\n",
       "    }\n",
       "</style>\n",
       "<table border=\"1\" class=\"dataframe\">\n",
       "  <thead>\n",
       "    <tr>\n",
       "      <th></th>\n",
       "      <th colspan=\"8\" halign=\"left\">length</th>\n",
       "    </tr>\n",
       "    <tr>\n",
       "      <th></th>\n",
       "      <th>count</th>\n",
       "      <th>mean</th>\n",
       "      <th>std</th>\n",
       "      <th>min</th>\n",
       "      <th>25%</th>\n",
       "      <th>50%</th>\n",
       "      <th>75%</th>\n",
       "      <th>max</th>\n",
       "    </tr>\n",
       "    <tr>\n",
       "      <th>label</th>\n",
       "      <th></th>\n",
       "      <th></th>\n",
       "      <th></th>\n",
       "      <th></th>\n",
       "      <th></th>\n",
       "      <th></th>\n",
       "      <th></th>\n",
       "      <th></th>\n",
       "    </tr>\n",
       "  </thead>\n",
       "  <tbody>\n",
       "    <tr>\n",
       "      <th>ham</th>\n",
       "      <td>2952.0</td>\n",
       "      <td>966.733062</td>\n",
       "      <td>1397.986685</td>\n",
       "      <td>30.0</td>\n",
       "      <td>223.75</td>\n",
       "      <td>515.0</td>\n",
       "      <td>1219.25</td>\n",
       "      <td>32258.0</td>\n",
       "    </tr>\n",
       "    <tr>\n",
       "      <th>spam</th>\n",
       "      <td>1185.0</td>\n",
       "      <td>1214.724051</td>\n",
       "      <td>1846.855705</td>\n",
       "      <td>11.0</td>\n",
       "      <td>276.00</td>\n",
       "      <td>564.0</td>\n",
       "      <td>1237.00</td>\n",
       "      <td>22073.0</td>\n",
       "    </tr>\n",
       "  </tbody>\n",
       "</table>\n",
       "</div>"
      ],
      "text/plain": [
       "       length                                                                 \n",
       "        count         mean          std   min     25%    50%      75%      max\n",
       "label                                                                         \n",
       "ham    2952.0   966.733062  1397.986685  30.0  223.75  515.0  1219.25  32258.0\n",
       "spam   1185.0  1214.724051  1846.855705  11.0  276.00  564.0  1237.00  22073.0"
      ]
     },
     "execution_count": 4,
     "metadata": {},
     "output_type": "execute_result"
    }
   ],
   "source": [
    "train_set[\"length\"] = train_set[\"text\"].apply(len)\n",
    "\n",
    "train_set.groupby(\"label\").describe()"
   ]
  },
  {
   "cell_type": "code",
   "execution_count": 5,
   "metadata": {},
   "outputs": [
    {
     "data": {
      "text/plain": [
       "count     4137.000000\n",
       "mean      1037.767464\n",
       "std       1543.832150\n",
       "min         11.000000\n",
       "25%        236.000000\n",
       "50%        535.000000\n",
       "75%       1221.000000\n",
       "max      32258.000000\n",
       "Name: length, dtype: float64"
      ]
     },
     "execution_count": 5,
     "metadata": {},
     "output_type": "execute_result"
    }
   ],
   "source": [
    "train_set.length.describe()"
   ]
  },
  {
   "cell_type": "code",
   "execution_count": 6,
   "metadata": {},
   "outputs": [
    {
     "data": {
      "text/plain": [
       "['Hey', 'sample', 'review', 'happens', 'contain', 'punctuations']"
      ]
     },
     "execution_count": 6,
     "metadata": {},
     "output_type": "execute_result"
    }
   ],
   "source": [
    "import string\n",
    "from nltk.corpus import stopwords\n",
    "\n",
    "\n",
    "def clean_text(text: str) -> list[str]:\n",
    "    text = text.translate(str.maketrans(\"\", \"\", string.punctuation + string.digits))\n",
    "    words = [\n",
    "        word for word in text.split() if word.lower() not in stopwords.words(\"english\")\n",
    "    ] # type: ignore\n",
    "\n",
    "    return words\n",
    "\n",
    "\n",
    "sample_text = (\n",
    "    \"Hey there! This is a sample review, which happens to contain punctuations.\"\n",
    ")\n",
    "clean_text(sample_text)"
   ]
  },
  {
   "cell_type": "code",
   "execution_count": 7,
   "metadata": {},
   "outputs": [],
   "source": [
    "train_set[\"clean_text\"] = train_set[\"text\"].apply(clean_text)"
   ]
  },
  {
   "cell_type": "code",
   "execution_count": 8,
   "metadata": {},
   "outputs": [
    {
     "data": {
      "text/plain": [
       "Subject    0.008456\n",
       "http       0.005245\n",
       "com        0.004995\n",
       "company    0.004438\n",
       "e          0.003475\n",
       "Name: count, dtype: float64"
      ]
     },
     "execution_count": 8,
     "metadata": {},
     "output_type": "execute_result"
    }
   ],
   "source": [
    "spam_emails = train_set[train_set[\"label\"] == \"spam\"][\"clean_text\"].apply(pd.Series).stack()\n",
    "ham_emails = train_set[train_set[\"label\"] == \"ham\"][\"clean_text\"].apply(pd.Series).stack()\n",
    "\n",
    "words_f_spam = spam_emails.value_counts() / spam_emails.count()\n",
    "words_f_ham = ham_emails.value_counts() / ham_emails.count()\n",
    "\n",
    "words_f_spam.head()"
   ]
  },
  {
   "cell_type": "code",
   "execution_count": 9,
   "metadata": {},
   "outputs": [],
   "source": [
    "\n",
    "frequency = train_set[\"label\"].value_counts() / train_set[\"label\"].count()\n",
    "\n",
    "global_p_ham, global_p_spam = frequency[\"ham\"], frequency[\"spam\"]"
   ]
  },
  {
   "cell_type": "code",
   "execution_count": 10,
   "metadata": {},
   "outputs": [
    {
     "data": {
      "text/plain": [
       "'ham'"
      ]
     },
     "execution_count": 10,
     "metadata": {},
     "output_type": "execute_result"
    }
   ],
   "source": [
    "def predict(text: str) -> str:\n",
    "    text = clean_text(text)\n",
    "\n",
    "    p_ham, p_spam = global_p_ham, global_p_spam\n",
    "\n",
    "    for word in text:\n",
    "        p_ham *= words_f_ham[word] if word in words_f_ham else 0\n",
    "        p_spam *= words_f_spam[word] if word in words_f_spam else 0\n",
    "\n",
    "    return \"spam\" if p_spam > p_ham else \"ham\"\n",
    "\n",
    "\n",
    "predict(\"\"\"\n",
    "Subject: photoshop , windows , office . cheap . main trending\n",
    "abasements darer prudently fortuitous undergone\n",
    "lighthearted charm orinoco taster\n",
    "railroad affluent pornographic cuvier\n",
    "irvin parkhouse blameworthy chlorophyll\n",
    "robed diagrammatic fogarty clears bayda\n",
    "inconveniencing managing represented smartness hashish\n",
    "academies shareholders unload badness\n",
    "danielson pure caffein\n",
    "spaniard chargeable levin\n",
    "\"\"\")"
   ]
  },
  {
   "cell_type": "code",
   "execution_count": 11,
   "metadata": {},
   "outputs": [
    {
     "data": {
      "text/html": [
       "<div>\n",
       "<style scoped>\n",
       "    .dataframe tbody tr th:only-of-type {\n",
       "        vertical-align: middle;\n",
       "    }\n",
       "\n",
       "    .dataframe tbody tr th {\n",
       "        vertical-align: top;\n",
       "    }\n",
       "\n",
       "    .dataframe thead th {\n",
       "        text-align: right;\n",
       "    }\n",
       "</style>\n",
       "<table border=\"1\" class=\"dataframe\">\n",
       "  <thead>\n",
       "    <tr style=\"text-align: right;\">\n",
       "      <th></th>\n",
       "      <th>label</th>\n",
       "      <th>text</th>\n",
       "      <th>length</th>\n",
       "      <th>clean_text</th>\n",
       "      <th>prediction</th>\n",
       "    </tr>\n",
       "  </thead>\n",
       "  <tbody>\n",
       "    <tr>\n",
       "      <th>1566</th>\n",
       "      <td>ham</td>\n",
       "      <td>Subject: hpl nom for march 30 , 2001\\r\\n( see ...</td>\n",
       "      <td>96</td>\n",
       "      <td>[Subject, hpl, nom, march, see, attached, file...</td>\n",
       "      <td>ham</td>\n",
       "    </tr>\n",
       "    <tr>\n",
       "      <th>1988</th>\n",
       "      <td>spam</td>\n",
       "      <td>Subject: online pharxmacy 80 % off all meds\\r\\...</td>\n",
       "      <td>22073</td>\n",
       "      <td>[Subject, online, pharxmacy, meds, disscount, ...</td>\n",
       "      <td>ham</td>\n",
       "    </tr>\n",
       "    <tr>\n",
       "      <th>1235</th>\n",
       "      <td>ham</td>\n",
       "      <td>Subject: re : nom / actual volume for april 17...</td>\n",
       "      <td>409</td>\n",
       "      <td>[Subject, nom, actual, volume, april, th, agre...</td>\n",
       "      <td>ham</td>\n",
       "    </tr>\n",
       "    <tr>\n",
       "      <th>2868</th>\n",
       "      <td>ham</td>\n",
       "      <td>Subject: re : meter 8740 dec 99\\r\\nrobert and ...</td>\n",
       "      <td>3519</td>\n",
       "      <td>[Subject, meter, dec, robert, put, heads, toge...</td>\n",
       "      <td>ham</td>\n",
       "    </tr>\n",
       "    <tr>\n",
       "      <th>4903</th>\n",
       "      <td>ham</td>\n",
       "      <td>Subject: re : coastal oil &amp; gas corporation\\r\\...</td>\n",
       "      <td>13448</td>\n",
       "      <td>[Subject, coastal, oil, gas, corporation, meli...</td>\n",
       "      <td>ham</td>\n",
       "    </tr>\n",
       "  </tbody>\n",
       "</table>\n",
       "</div>"
      ],
      "text/plain": [
       "     label                                               text  length   \n",
       "1566   ham  Subject: hpl nom for march 30 , 2001\\r\\n( see ...      96  \\\n",
       "1988  spam  Subject: online pharxmacy 80 % off all meds\\r\\...   22073   \n",
       "1235   ham  Subject: re : nom / actual volume for april 17...     409   \n",
       "2868   ham  Subject: re : meter 8740 dec 99\\r\\nrobert and ...    3519   \n",
       "4903   ham  Subject: re : coastal oil & gas corporation\\r\\...   13448   \n",
       "\n",
       "                                             clean_text prediction  \n",
       "1566  [Subject, hpl, nom, march, see, attached, file...        ham  \n",
       "1988  [Subject, online, pharxmacy, meds, disscount, ...        ham  \n",
       "1235  [Subject, nom, actual, volume, april, th, agre...        ham  \n",
       "2868  [Subject, meter, dec, robert, put, heads, toge...        ham  \n",
       "4903  [Subject, coastal, oil, gas, corporation, meli...        ham  "
      ]
     },
     "execution_count": 11,
     "metadata": {},
     "output_type": "execute_result"
    }
   ],
   "source": [
    "train_set[\"prediction\"] = train_set[\"text\"].apply(predict)\n",
    "\n",
    "train_set.head()"
   ]
  },
  {
   "cell_type": "code",
   "execution_count": 12,
   "metadata": {},
   "outputs": [
    {
     "name": "stdout",
     "output_type": "stream",
     "text": [
      "     label prediction\n",
      "1566   ham        ham\n",
      "1988  spam        ham\n",
      "1235   ham        ham\n",
      "2868   ham        ham\n",
      "4903   ham        ham\n",
      "True positives: 741\n",
      "True negatives: 2947\n",
      "False positives: 5\n",
      "False negatives: 444\n",
      "Accuracy: 0.891467246797196\n",
      "Precision: 0.9932975871313673\n",
      "Recall: 0.6253164556962025\n"
     ]
    }
   ],
   "source": [
    "print(train_set[[\"label\", \"prediction\"]].head())\n",
    "\n",
    "true_positives = train_set[(train_set[\"label\"] == \"spam\") & (train_set[\"prediction\"] == \"spam\")]\n",
    "true_negatives = train_set[(train_set[\"label\"] == \"ham\") & (train_set[\"prediction\"] == \"ham\")]\n",
    "false_positives = train_set[(train_set[\"label\"] == \"ham\") & (train_set[\"prediction\"] == \"spam\")]\n",
    "false_negatives = train_set[(train_set[\"label\"] == \"spam\") & (train_set[\"prediction\"] == \"ham\")]\n",
    "\n",
    "print(f\"True positives: {len(true_positives)}\")\n",
    "print(f\"True negatives: {len(true_negatives)}\")\n",
    "print(f\"False positives: {len(false_positives)}\")\n",
    "print(f\"False negatives: {len(false_negatives)}\")\n",
    "\n",
    "assert len(train_set) == len(true_positives) + len(true_negatives) + len(false_positives) + len(false_negatives)\n",
    "\n",
    "accuracy = (len(true_positives) + len(true_negatives)) / len(train_set)\n",
    "precision = len(true_positives) / (len(true_positives) + len(false_positives))\n",
    "recall = len(true_positives) / (len(true_positives) + len(false_negatives))\n",
    "\n",
    "print(f\"Accuracy: {accuracy}\")\n",
    "print(f\"Precision: {precision}\")\n",
    "print(f\"Recall: {recall}\")"
   ]
  },
  {
   "cell_type": "code",
   "execution_count": 13,
   "metadata": {},
   "outputs": [
    {
     "data": {
      "text/html": [
       "<div>\n",
       "<style scoped>\n",
       "    .dataframe tbody tr th:only-of-type {\n",
       "        vertical-align: middle;\n",
       "    }\n",
       "\n",
       "    .dataframe tbody tr th {\n",
       "        vertical-align: top;\n",
       "    }\n",
       "\n",
       "    .dataframe thead th {\n",
       "        text-align: right;\n",
       "    }\n",
       "</style>\n",
       "<table border=\"1\" class=\"dataframe\">\n",
       "  <thead>\n",
       "    <tr style=\"text-align: right;\">\n",
       "      <th></th>\n",
       "      <th>label</th>\n",
       "      <th>text</th>\n",
       "      <th>prediction</th>\n",
       "    </tr>\n",
       "  </thead>\n",
       "  <tbody>\n",
       "    <tr>\n",
       "      <th>3</th>\n",
       "      <td>spam</td>\n",
       "      <td>Subject: photoshop , windows , office . cheap ...</td>\n",
       "      <td>ham</td>\n",
       "    </tr>\n",
       "    <tr>\n",
       "      <th>4</th>\n",
       "      <td>ham</td>\n",
       "      <td>Subject: re : indian springs\\r\\nthis deal is t...</td>\n",
       "      <td>ham</td>\n",
       "    </tr>\n",
       "    <tr>\n",
       "      <th>5</th>\n",
       "      <td>ham</td>\n",
       "      <td>Subject: ehronline web address change\\r\\nthis ...</td>\n",
       "      <td>ham</td>\n",
       "    </tr>\n",
       "    <tr>\n",
       "      <th>9</th>\n",
       "      <td>ham</td>\n",
       "      <td>Subject: nominations for oct . 21 - 23 , 2000\\...</td>\n",
       "      <td>ham</td>\n",
       "    </tr>\n",
       "    <tr>\n",
       "      <th>16</th>\n",
       "      <td>ham</td>\n",
       "      <td>Subject: re : first delivery - wheeler operati...</td>\n",
       "      <td>ham</td>\n",
       "    </tr>\n",
       "  </tbody>\n",
       "</table>\n",
       "</div>"
      ],
      "text/plain": [
       "   label                                               text prediction\n",
       "3   spam  Subject: photoshop , windows , office . cheap ...        ham\n",
       "4    ham  Subject: re : indian springs\\r\\nthis deal is t...        ham\n",
       "5    ham  Subject: ehronline web address change\\r\\nthis ...        ham\n",
       "9    ham  Subject: nominations for oct . 21 - 23 , 2000\\...        ham\n",
       "16   ham  Subject: re : first delivery - wheeler operati...        ham"
      ]
     },
     "execution_count": 13,
     "metadata": {},
     "output_type": "execute_result"
    }
   ],
   "source": [
    "test_set = df.drop(train_set.index)\n",
    "\n",
    "test_set[\"prediction\"] = test_set[\"text\"].apply(predict)\n",
    "\n",
    "test_set.head()"
   ]
  },
  {
   "cell_type": "code",
   "execution_count": 14,
   "metadata": {},
   "outputs": [
    {
     "name": "stdout",
     "output_type": "stream",
     "text": [
      "Accuracy: 0.7311411992263056\n",
      "Precision: 1.0\n",
      "Recall: 0.11464968152866242\n"
     ]
    }
   ],
   "source": [
    "test_set[[\"label\", \"prediction\"]]\n",
    "\n",
    "true_positives = test_set[(test_set[\"label\"] == \"spam\") & (test_set[\"prediction\"] == \"spam\")]\n",
    "true_negatives = test_set[(test_set[\"label\"] == \"ham\") & (test_set[\"prediction\"] == \"ham\")]\n",
    "false_positives = test_set[(test_set[\"label\"] == \"ham\") & (test_set[\"prediction\"] == \"spam\")]\n",
    "false_negatives = test_set[(test_set[\"label\"] == \"spam\") & (test_set[\"prediction\"] == \"ham\")]\n",
    "\n",
    "accuracy = (len(true_positives) + len(true_negatives)) / len(test_set)\n",
    "precision = len(true_positives) / (len(true_positives) + len(false_positives))\n",
    "recall = len(true_positives) / (len(true_positives) + len(false_negatives))\n",
    "\n",
    "print(f\"Accuracy: {accuracy}\")\n",
    "print(f\"Precision: {precision}\")\n",
    "print(f\"Recall: {recall}\")"
   ]
  }
 ],
 "metadata": {
  "kernelspec": {
   "display_name": "venv",
   "language": "python",
   "name": "python3"
  },
  "language_info": {
   "codemirror_mode": {
    "name": "ipython",
    "version": 3
   },
   "file_extension": ".py",
   "mimetype": "text/x-python",
   "name": "python",
   "nbconvert_exporter": "python",
   "pygments_lexer": "ipython3",
   "version": "3.11.3"
  },
  "orig_nbformat": 4
 },
 "nbformat": 4,
 "nbformat_minor": 2
}
